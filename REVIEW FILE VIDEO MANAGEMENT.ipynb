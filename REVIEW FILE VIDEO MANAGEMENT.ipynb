{
 "cells": [
  {
   "cell_type": "code",
   "execution_count": null,
   "metadata": {},
   "outputs": [],
   "source": [
    "ATO MIASA MI COPIER REVIEW FILE"
"import re

def parse_segments(content):
    """
    Parse the content into segments based on the segment header.
    Returns a dictionary with segment numbers (as integers) as keys and the full segment text as values.
    """
    segments = {}
    # The pattern finds segments that start with "Segment <number>" until the next segment or end of file.
    pattern = r"(Segment\s+(\d+).*?)(?=^Segment\s+\d+|\Z)"
    matches = re.findall(pattern, content, re.DOTALL | re.MULTILINE)
    for full_seg, seg_no in matches:
        segments[int(seg_no)] = full_seg
    return segments

def get_field_text(segment_text, field_name):
    """
    Extract the text following a given field marker (e.g., **Original:**, **Auto Translated:**, **Final Translation:**)
    from the segment text. Returns the text stripped of leading/trailing spaces.
    """
    # Using a regex pattern that stops at the end of the line.
    pattern = r"\*\*" + re.escape(field_name) + r":\*\*\s*(.*)"
    match = re.search(pattern, segment_text)
    if match:
        return match.group(1).strip()
    return None

def update_segment_fields(review_segment, updated_segment, fields):
    """
    Replace the specified fields in the review_segment with the ones extracted
    from the updated_segment.
    
    fields should be a list of field names such as ["Original", "Auto Translated", "Final Translation"].
    """
    updated_seg = review_segment
    for field in fields:
        new_text = get_field_text(updated_segment, field)
        if new_text is not None:
            # Replace the entire line for the field in the review segment.
            # The regex captures the marker and then replaces what follows.
            pattern = r"(\*\*" + re.escape(field) + r":\*\*\s*).*$"
            replacement = r"\1" + new_text
            updated_seg = re.sub(pattern, replacement, updated_seg, flags=re.MULTILINE)
    return updated_seg

def update_translation_review(review_content, updated_segments, fields):
    """
    For each segment in review_content, replace the specified fields with those from the updated segments.
    """
    # Find the segments in review content using the same segmentation parser.
    pattern = r"(Segment\s+(\d+).*?)(?=^Segment\s+\d+|\Z)"
    matches = re.findall(pattern, review_content, re.DOTALL | re.MULTILINE)

    updated_content = review_content  # Work on a copy to allow replacements.

    for full_seg, seg_no in matches:
        seg_no_int = int(seg_no)
        if seg_no_int in updated_segments:
            # Replace the fields (Original, Auto Translated, Final Translation) based on updated segments.
            new_seg = update_segment_fields(full_seg, updated_segments[seg_no_int],
                                            fields)
            # Replace the old segment in the overall content with the updated segment.
            updated_content = updated_content.replace(full_seg, new_seg)
    return updated_content

def main():
    # Define the file paths (adjust these paths as needed)
    updated_file_path = "to translate/translation_review_modifs ad 05.08 (2).txt"
    review_file_path = "to translate/translation_review.txt"
    
    # Read the updated file content
    with open(updated_file_path, encoding='utf-8') as f:
        updated_content = f.read()
    
    # Read the review file content
    with open(review_file_path, encoding='utf-8') as f:
        review_content = f.read()
    
    # Parse segments from the updated file content
    updated_segments = parse_segments(updated_content)
    
    # Define the list of fields to update.
    fields_to_update = ["Original", "Auto Translated", "Final Translation"]
    
    # Replace the fields in the review content using the updated segments
    new_review_content = update_translation_review(review_content, updated_segments,
                                                   fields_to_update)
    
    # Write the updated content to a new file (or overwrite the original file if desired)
    output_file_path = "to translate/translation_review_updated.txt"
    with open(output_file_path, "w", encoding='utf-8') as f:
        f.write(new_review_content)
    
    print(f"Updated translation review file has been saved as {output_file_path}")

if __name__ == "__main__":
    main()"

   ]
  },
  {
   "cell_type": "code",
   "execution_count": null,
   "metadata": {},
   "outputs": [],
   "source": [
    "import re\n",
    "import re

def parse_segments(content):
    """
    Parse the content into segments using a regular expression that captures each segment.
    Returns a dictionary with segment numbers (as integers) as keys and the full segment text as values.
    """
    segments = {}
    # This pattern finds segments that start with "Segment <number>" and goes until the next segment or end of file.
    pattern = r"(Segment\s+(\d+).*?)(?=^Segment\s+\d+|\Z)"
    matches = re.findall(pattern, content, re.DOTALL | re.MULTILINE)
    for full_seg, seg_no in matches:
        segments[int(seg_no)] = full_seg
    return segments

def get_final_translation(segment_text):
    """
    Extracts the final translation text from a segment.
    It looks for the pattern **Final Translation:** followed by any text.
    """
    match = re.search(r"\*\*Final Translation:\*\*\s*(.*)", segment_text)
    if match:
        return match.group(1).strip()
    return None

def update_translation_review(review_content, updated_segments):
    """
    For each segment in the review file's content, replaces the **Final Translation:** text
    with the one from the updated segments.
    """
    # Parse the review content into segments using the same parser
    review_segments = {}
    pattern = r"(Segment\s+(\d+).*?)(?=^Segment\s+\d+|\Z)"
    matches = re.findall(pattern, review_content, re.DOTALL | re.MULTILINE)
    
    updated_content = review_content  # Work on a copy of the content

    for full_seg, seg_no in matches:
        seg_no_int = int(seg_no)
        if seg_no_int in updated_segments:
            updated_final = get_final_translation(updated_segments[seg_no_int])
            if updated_final is not None:
                # Replace the **Final Translation:** line in this segment with the new translation.
                # This regex pattern matches the '**Final Translation:**' line and captures the prefix.
                new_seg = re.sub(
                    r"(\*\*Final Translation:\*\*\s*).*",  # match the line starting with **Final Translation:**
                    r"\1" + updated_final,  # replace with the captured prefix plus the updated text
                    full_seg
                )
                # Replace the old segment in the content with the updated segment.
                updated_content = updated_content.replace(full_seg, new_seg)

    return updated_content

def main():
    # Define file paths (make sure these paths are correct)
    updated_file_path = "to translate/translation_review_farany.txt"
    review_file_path = "to translate/translation_review.txt"
    
    # Read updated file content
    with open(updated_file_path, encoding='utf-8') as f:
        updated_content = f.read()
    
    # Read review file content
    with open(review_file_path, encoding='utf-8') as f:
        review_content = f.read()
    
    # Parse segments from the updated content
    updated_segments = parse_segments(updated_content)
    
    # Replace the **Final Translation:** values in the review content
    new_review_content = update_translation_review(review_content, updated_segments)
    
    # Write the updated content to a new file (or overwrite the original file if desired)
    output_file_path = "to translate/translation_review_updated.txt"
    with open(output_file_path, "w", encoding='utf-8') as f:
        f.write(new_review_content)
    
    print(f"Updated translation review file has been saved as {output_file_path}")

if __name__ == "__main__":
    main()
"
   ]
  }
 ],
 "metadata": {
  "kernelspec": {
   "display_name": "Python 3",
   "language": "python",
   "name": "python3"
  },
  "language_info": {
   "name": "python",
   "version": "3.10"
  }
 },
 "nbformat": 4,
 "nbformat_minor": 5
}
